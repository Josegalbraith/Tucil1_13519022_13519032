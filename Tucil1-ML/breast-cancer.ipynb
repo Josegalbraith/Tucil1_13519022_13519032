{
 "cells": [
  {
   "cell_type": "markdown",
   "metadata": {},
   "source": [
    "# Tugas Kecil\n",
    "## Eksplorasi library Decision Tree Learning pada Jupyter Notebook\n",
    "### Breast Cancer\n",
    "<p>Anggota : <br>\n",
    " Jose Galbraith Hasintongan (13519022) <br>\n",
    " Muhammad Fahkry Malta (13519032) </p>"
   ]
  },
  {
   "cell_type": "markdown",
   "metadata": {},
   "source": [
    "<p>Import libraries yang diperlukan</p>"
   ]
  },
  {
   "cell_type": "code",
   "execution_count": 114,
   "metadata": {},
   "outputs": [],
   "source": [
    "import pandas as pd\n",
    "import sklearn\n",
    "import sklearn.model_selection\n",
    "import sklearn.datasets\n",
    "import sklearn.metrics"
   ]
  },
  {
   "cell_type": "markdown",
   "metadata": {},
   "source": [
    "<p>Import Breast Cancer dataset</p>"
   ]
  },
  {
   "cell_type": "code",
   "execution_count": 115,
   "metadata": {},
   "outputs": [],
   "source": [
    "breast_cancer = sklearn.datasets.load_breast_cancer()"
   ]
  },
  {
   "cell_type": "markdown",
   "metadata": {},
   "source": [
    "<p>Buat dataframe untuk dataset</p>"
   ]
  },
  {
   "cell_type": "code",
   "execution_count": 116,
   "metadata": {},
   "outputs": [],
   "source": [
    "df_breast_cancer = pd.DataFrame(breast_cancer.data, columns=breast_cancer.feature_names)\n"
   ]
  },
  {
   "cell_type": "code",
   "execution_count": 117,
   "metadata": {},
   "outputs": [
    {
     "data": {
      "text/plain": [
       "array(['mean radius', 'mean texture', 'mean perimeter', 'mean area',\n",
       "       'mean smoothness', 'mean compactness', 'mean concavity',\n",
       "       'mean concave points', 'mean symmetry', 'mean fractal dimension',\n",
       "       'radius error', 'texture error', 'perimeter error', 'area error',\n",
       "       'smoothness error', 'compactness error', 'concavity error',\n",
       "       'concave points error', 'symmetry error',\n",
       "       'fractal dimension error', 'worst radius', 'worst texture',\n",
       "       'worst perimeter', 'worst area', 'worst smoothness',\n",
       "       'worst compactness', 'worst concavity', 'worst concave points',\n",
       "       'worst symmetry', 'worst fractal dimension'], dtype='<U23')"
      ]
     },
     "execution_count": 117,
     "metadata": {},
     "output_type": "execute_result"
    }
   ],
   "source": [
    "breast_cancer.feature_names"
   ]
  },
  {
   "cell_type": "code",
   "execution_count": 118,
   "metadata": {},
   "outputs": [
    {
     "data": {
      "text/plain": [
       "array([0, 0, 0, 0, 0, 0, 0, 0, 0, 0, 0, 0, 0, 0, 0, 0, 0, 0, 0, 1, 1, 1,\n",
       "       0, 0, 0, 0, 0, 0, 0, 0, 0, 0, 0, 0, 0, 0, 0, 1, 0, 0, 0, 0, 0, 0,\n",
       "       0, 0, 1, 0, 1, 1, 1, 1, 1, 0, 0, 1, 0, 0, 1, 1, 1, 1, 0, 1, 0, 0,\n",
       "       1, 1, 1, 1, 0, 1, 0, 0, 1, 0, 1, 0, 0, 1, 1, 1, 0, 0, 1, 0, 0, 0,\n",
       "       1, 1, 1, 0, 1, 1, 0, 0, 1, 1, 1, 0, 0, 1, 1, 1, 1, 0, 1, 1, 0, 1,\n",
       "       1, 1, 1, 1, 1, 1, 1, 0, 0, 0, 1, 0, 0, 1, 1, 1, 0, 0, 1, 0, 1, 0,\n",
       "       0, 1, 0, 0, 1, 1, 0, 1, 1, 0, 1, 1, 1, 1, 0, 1, 1, 1, 1, 1, 1, 1,\n",
       "       1, 1, 0, 1, 1, 1, 1, 0, 0, 1, 0, 1, 1, 0, 0, 1, 1, 0, 0, 1, 1, 1,\n",
       "       1, 0, 1, 1, 0, 0, 0, 1, 0, 1, 0, 1, 1, 1, 0, 1, 1, 0, 0, 1, 0, 0,\n",
       "       0, 0, 1, 0, 0, 0, 1, 0, 1, 0, 1, 1, 0, 1, 0, 0, 0, 0, 1, 1, 0, 0,\n",
       "       1, 1, 1, 0, 1, 1, 1, 1, 1, 0, 0, 1, 1, 0, 1, 1, 0, 0, 1, 0, 1, 1,\n",
       "       1, 1, 0, 1, 1, 1, 1, 1, 0, 1, 0, 0, 0, 0, 0, 0, 0, 0, 0, 0, 0, 0,\n",
       "       0, 0, 1, 1, 1, 1, 1, 1, 0, 1, 0, 1, 1, 0, 1, 1, 0, 1, 0, 0, 1, 1,\n",
       "       1, 1, 1, 1, 1, 1, 1, 1, 1, 1, 1, 0, 1, 1, 0, 1, 0, 1, 1, 1, 1, 1,\n",
       "       1, 1, 1, 1, 1, 1, 1, 1, 1, 0, 1, 1, 1, 0, 1, 0, 1, 1, 1, 1, 0, 0,\n",
       "       0, 1, 1, 1, 1, 0, 1, 0, 1, 0, 1, 1, 1, 0, 1, 1, 1, 1, 1, 1, 1, 0,\n",
       "       0, 0, 1, 1, 1, 1, 1, 1, 1, 1, 1, 1, 1, 0, 0, 1, 0, 0, 0, 1, 0, 0,\n",
       "       1, 1, 1, 1, 1, 0, 1, 1, 1, 1, 1, 0, 1, 1, 1, 0, 1, 1, 0, 0, 1, 1,\n",
       "       1, 1, 1, 1, 0, 1, 1, 1, 1, 1, 1, 1, 0, 1, 1, 1, 1, 1, 0, 1, 1, 0,\n",
       "       1, 1, 1, 1, 1, 1, 1, 1, 1, 1, 1, 1, 0, 1, 0, 0, 1, 0, 1, 1, 1, 1,\n",
       "       1, 0, 1, 1, 0, 1, 0, 1, 1, 0, 1, 0, 1, 1, 1, 1, 1, 1, 1, 1, 0, 0,\n",
       "       1, 1, 1, 1, 1, 1, 0, 1, 1, 1, 1, 1, 1, 1, 1, 1, 1, 0, 1, 1, 1, 1,\n",
       "       1, 1, 1, 0, 1, 0, 1, 1, 0, 1, 1, 1, 1, 1, 0, 0, 1, 0, 1, 0, 1, 1,\n",
       "       1, 1, 1, 0, 1, 1, 0, 1, 0, 1, 0, 0, 1, 1, 1, 0, 1, 1, 1, 1, 1, 1,\n",
       "       1, 1, 1, 1, 1, 0, 1, 0, 0, 1, 1, 1, 1, 1, 1, 1, 1, 1, 1, 1, 1, 1,\n",
       "       1, 1, 1, 1, 1, 1, 1, 1, 1, 1, 1, 1, 0, 0, 0, 0, 0, 0, 1])"
      ]
     },
     "execution_count": 118,
     "metadata": {},
     "output_type": "execute_result"
    }
   ],
   "source": [
    "breast_cancer.target"
   ]
  },
  {
   "cell_type": "code",
   "execution_count": 119,
   "metadata": {},
   "outputs": [
    {
     "data": {
      "text/html": [
       "<div>\n",
       "<style scoped>\n",
       "    .dataframe tbody tr th:only-of-type {\n",
       "        vertical-align: middle;\n",
       "    }\n",
       "\n",
       "    .dataframe tbody tr th {\n",
       "        vertical-align: top;\n",
       "    }\n",
       "\n",
       "    .dataframe thead th {\n",
       "        text-align: right;\n",
       "    }\n",
       "</style>\n",
       "<table border=\"1\" class=\"dataframe\">\n",
       "  <thead>\n",
       "    <tr style=\"text-align: right;\">\n",
       "      <th></th>\n",
       "      <th>mean radius</th>\n",
       "      <th>mean texture</th>\n",
       "      <th>mean perimeter</th>\n",
       "      <th>mean area</th>\n",
       "      <th>mean smoothness</th>\n",
       "      <th>mean compactness</th>\n",
       "      <th>mean concavity</th>\n",
       "      <th>mean concave points</th>\n",
       "      <th>mean symmetry</th>\n",
       "      <th>mean fractal dimension</th>\n",
       "      <th>...</th>\n",
       "      <th>worst radius</th>\n",
       "      <th>worst texture</th>\n",
       "      <th>worst perimeter</th>\n",
       "      <th>worst area</th>\n",
       "      <th>worst smoothness</th>\n",
       "      <th>worst compactness</th>\n",
       "      <th>worst concavity</th>\n",
       "      <th>worst concave points</th>\n",
       "      <th>worst symmetry</th>\n",
       "      <th>worst fractal dimension</th>\n",
       "    </tr>\n",
       "  </thead>\n",
       "  <tbody>\n",
       "    <tr>\n",
       "      <th>0</th>\n",
       "      <td>17.99</td>\n",
       "      <td>10.38</td>\n",
       "      <td>122.80</td>\n",
       "      <td>1001.0</td>\n",
       "      <td>0.11840</td>\n",
       "      <td>0.27760</td>\n",
       "      <td>0.3001</td>\n",
       "      <td>0.14710</td>\n",
       "      <td>0.2419</td>\n",
       "      <td>0.07871</td>\n",
       "      <td>...</td>\n",
       "      <td>25.38</td>\n",
       "      <td>17.33</td>\n",
       "      <td>184.60</td>\n",
       "      <td>2019.0</td>\n",
       "      <td>0.1622</td>\n",
       "      <td>0.6656</td>\n",
       "      <td>0.7119</td>\n",
       "      <td>0.2654</td>\n",
       "      <td>0.4601</td>\n",
       "      <td>0.11890</td>\n",
       "    </tr>\n",
       "    <tr>\n",
       "      <th>1</th>\n",
       "      <td>20.57</td>\n",
       "      <td>17.77</td>\n",
       "      <td>132.90</td>\n",
       "      <td>1326.0</td>\n",
       "      <td>0.08474</td>\n",
       "      <td>0.07864</td>\n",
       "      <td>0.0869</td>\n",
       "      <td>0.07017</td>\n",
       "      <td>0.1812</td>\n",
       "      <td>0.05667</td>\n",
       "      <td>...</td>\n",
       "      <td>24.99</td>\n",
       "      <td>23.41</td>\n",
       "      <td>158.80</td>\n",
       "      <td>1956.0</td>\n",
       "      <td>0.1238</td>\n",
       "      <td>0.1866</td>\n",
       "      <td>0.2416</td>\n",
       "      <td>0.1860</td>\n",
       "      <td>0.2750</td>\n",
       "      <td>0.08902</td>\n",
       "    </tr>\n",
       "    <tr>\n",
       "      <th>2</th>\n",
       "      <td>19.69</td>\n",
       "      <td>21.25</td>\n",
       "      <td>130.00</td>\n",
       "      <td>1203.0</td>\n",
       "      <td>0.10960</td>\n",
       "      <td>0.15990</td>\n",
       "      <td>0.1974</td>\n",
       "      <td>0.12790</td>\n",
       "      <td>0.2069</td>\n",
       "      <td>0.05999</td>\n",
       "      <td>...</td>\n",
       "      <td>23.57</td>\n",
       "      <td>25.53</td>\n",
       "      <td>152.50</td>\n",
       "      <td>1709.0</td>\n",
       "      <td>0.1444</td>\n",
       "      <td>0.4245</td>\n",
       "      <td>0.4504</td>\n",
       "      <td>0.2430</td>\n",
       "      <td>0.3613</td>\n",
       "      <td>0.08758</td>\n",
       "    </tr>\n",
       "    <tr>\n",
       "      <th>3</th>\n",
       "      <td>11.42</td>\n",
       "      <td>20.38</td>\n",
       "      <td>77.58</td>\n",
       "      <td>386.1</td>\n",
       "      <td>0.14250</td>\n",
       "      <td>0.28390</td>\n",
       "      <td>0.2414</td>\n",
       "      <td>0.10520</td>\n",
       "      <td>0.2597</td>\n",
       "      <td>0.09744</td>\n",
       "      <td>...</td>\n",
       "      <td>14.91</td>\n",
       "      <td>26.50</td>\n",
       "      <td>98.87</td>\n",
       "      <td>567.7</td>\n",
       "      <td>0.2098</td>\n",
       "      <td>0.8663</td>\n",
       "      <td>0.6869</td>\n",
       "      <td>0.2575</td>\n",
       "      <td>0.6638</td>\n",
       "      <td>0.17300</td>\n",
       "    </tr>\n",
       "    <tr>\n",
       "      <th>4</th>\n",
       "      <td>20.29</td>\n",
       "      <td>14.34</td>\n",
       "      <td>135.10</td>\n",
       "      <td>1297.0</td>\n",
       "      <td>0.10030</td>\n",
       "      <td>0.13280</td>\n",
       "      <td>0.1980</td>\n",
       "      <td>0.10430</td>\n",
       "      <td>0.1809</td>\n",
       "      <td>0.05883</td>\n",
       "      <td>...</td>\n",
       "      <td>22.54</td>\n",
       "      <td>16.67</td>\n",
       "      <td>152.20</td>\n",
       "      <td>1575.0</td>\n",
       "      <td>0.1374</td>\n",
       "      <td>0.2050</td>\n",
       "      <td>0.4000</td>\n",
       "      <td>0.1625</td>\n",
       "      <td>0.2364</td>\n",
       "      <td>0.07678</td>\n",
       "    </tr>\n",
       "  </tbody>\n",
       "</table>\n",
       "<p>5 rows × 30 columns</p>\n",
       "</div>"
      ],
      "text/plain": [
       "   mean radius  mean texture  mean perimeter  mean area  mean smoothness  \\\n",
       "0        17.99         10.38          122.80     1001.0          0.11840   \n",
       "1        20.57         17.77          132.90     1326.0          0.08474   \n",
       "2        19.69         21.25          130.00     1203.0          0.10960   \n",
       "3        11.42         20.38           77.58      386.1          0.14250   \n",
       "4        20.29         14.34          135.10     1297.0          0.10030   \n",
       "\n",
       "   mean compactness  mean concavity  mean concave points  mean symmetry  \\\n",
       "0           0.27760          0.3001              0.14710         0.2419   \n",
       "1           0.07864          0.0869              0.07017         0.1812   \n",
       "2           0.15990          0.1974              0.12790         0.2069   \n",
       "3           0.28390          0.2414              0.10520         0.2597   \n",
       "4           0.13280          0.1980              0.10430         0.1809   \n",
       "\n",
       "   mean fractal dimension  ...  worst radius  worst texture  worst perimeter  \\\n",
       "0                 0.07871  ...         25.38          17.33           184.60   \n",
       "1                 0.05667  ...         24.99          23.41           158.80   \n",
       "2                 0.05999  ...         23.57          25.53           152.50   \n",
       "3                 0.09744  ...         14.91          26.50            98.87   \n",
       "4                 0.05883  ...         22.54          16.67           152.20   \n",
       "\n",
       "   worst area  worst smoothness  worst compactness  worst concavity  \\\n",
       "0      2019.0            0.1622             0.6656           0.7119   \n",
       "1      1956.0            0.1238             0.1866           0.2416   \n",
       "2      1709.0            0.1444             0.4245           0.4504   \n",
       "3       567.7            0.2098             0.8663           0.6869   \n",
       "4      1575.0            0.1374             0.2050           0.4000   \n",
       "\n",
       "   worst concave points  worst symmetry  worst fractal dimension  \n",
       "0                0.2654          0.4601                  0.11890  \n",
       "1                0.1860          0.2750                  0.08902  \n",
       "2                0.2430          0.3613                  0.08758  \n",
       "3                0.2575          0.6638                  0.17300  \n",
       "4                0.1625          0.2364                  0.07678  \n",
       "\n",
       "[5 rows x 30 columns]"
      ]
     },
     "execution_count": 119,
     "metadata": {},
     "output_type": "execute_result"
    }
   ],
   "source": [
    "df_breast_cancer.head()"
   ]
  },
  {
   "cell_type": "markdown",
   "metadata": {},
   "source": [
    "<p>Split Data</p>"
   ]
  },
  {
   "cell_type": "code",
   "execution_count": 120,
   "metadata": {},
   "outputs": [],
   "source": [
    "X,y = sklearn.datasets.load_breast_cancer(return_X_y=True)\n",
    "X_train, X_test, y_train, y_test = sklearn.model_selection.train_test_split(X, y, test_size=0.2)"
   ]
  },
  {
   "cell_type": "markdown",
   "metadata": {},
   "source": [
    "<p>Decision Tree</p>"
   ]
  },
  {
   "cell_type": "code",
   "execution_count": 121,
   "metadata": {},
   "outputs": [
    {
     "data": {
      "text/plain": [
       "[Text(225.99000000000004, 206.56799999999998, 'X[22] <= 114.45\\ngini = 0.466\\nsamples = 455\\nvalue = [168, 287]'),\n",
       " Text(150.66000000000003, 184.824, 'X[27] <= 0.146\\ngini = 0.173\\nsamples = 313\\nvalue = [30, 283]'),\n",
       " Text(100.44000000000001, 163.07999999999998, 'X[20] <= 17.54\\ngini = 0.074\\nsamples = 286\\nvalue = [11, 275]'),\n",
       " Text(83.70000000000002, 141.336, 'X[21] <= 33.35\\ngini = 0.061\\nsamples = 284\\nvalue = [9, 275]'),\n",
       " Text(50.220000000000006, 119.592, 'X[28] <= 0.161\\ngini = 0.036\\nsamples = 272\\nvalue = [5, 267]'),\n",
       " Text(33.480000000000004, 97.848, 'gini = 0.0\\nsamples = 1\\nvalue = [1, 0]'),\n",
       " Text(66.96000000000001, 97.848, 'X[20] <= 15.78\\ngini = 0.029\\nsamples = 271\\nvalue = [4, 267]'),\n",
       " Text(50.220000000000006, 76.10399999999998, 'gini = 0.0\\nsamples = 240\\nvalue = [0, 240]'),\n",
       " Text(83.70000000000002, 76.10399999999998, 'X[21] <= 29.18\\ngini = 0.225\\nsamples = 31\\nvalue = [4, 27]'),\n",
       " Text(50.220000000000006, 54.360000000000014, 'X[3] <= 610.4\\ngini = 0.077\\nsamples = 25\\nvalue = [1, 24]'),\n",
       " Text(33.480000000000004, 32.615999999999985, 'X[15] <= 0.019\\ngini = 0.5\\nsamples = 2\\nvalue = [1, 1]'),\n",
       " Text(16.740000000000002, 10.872000000000014, 'gini = 0.0\\nsamples = 1\\nvalue = [0, 1]'),\n",
       " Text(50.220000000000006, 10.872000000000014, 'gini = 0.0\\nsamples = 1\\nvalue = [1, 0]'),\n",
       " Text(66.96000000000001, 32.615999999999985, 'gini = 0.0\\nsamples = 23\\nvalue = [0, 23]'),\n",
       " Text(117.18, 54.360000000000014, 'X[9] <= 0.057\\ngini = 0.5\\nsamples = 6\\nvalue = [3, 3]'),\n",
       " Text(100.44000000000001, 32.615999999999985, 'gini = 0.0\\nsamples = 3\\nvalue = [3, 0]'),\n",
       " Text(133.92000000000002, 32.615999999999985, 'gini = 0.0\\nsamples = 3\\nvalue = [0, 3]'),\n",
       " Text(117.18, 119.592, 'X[23] <= 641.6\\ngini = 0.444\\nsamples = 12\\nvalue = [4, 8]'),\n",
       " Text(100.44000000000001, 97.848, 'gini = 0.0\\nsamples = 8\\nvalue = [0, 8]'),\n",
       " Text(133.92000000000002, 97.848, 'gini = 0.0\\nsamples = 4\\nvalue = [4, 0]'),\n",
       " Text(117.18, 141.336, 'gini = 0.0\\nsamples = 2\\nvalue = [2, 0]'),\n",
       " Text(200.88000000000002, 163.07999999999998, 'X[21] <= 23.74\\ngini = 0.417\\nsamples = 27\\nvalue = [19, 8]'),\n",
       " Text(167.40000000000003, 141.336, 'X[23] <= 797.05\\ngini = 0.245\\nsamples = 7\\nvalue = [1, 6]'),\n",
       " Text(150.66000000000003, 119.592, 'gini = 0.0\\nsamples = 6\\nvalue = [0, 6]'),\n",
       " Text(184.14000000000001, 119.592, 'gini = 0.0\\nsamples = 1\\nvalue = [1, 0]'),\n",
       " Text(234.36, 141.336, 'X[4] <= 0.091\\ngini = 0.18\\nsamples = 20\\nvalue = [18, 2]'),\n",
       " Text(217.62000000000003, 119.592, 'gini = 0.0\\nsamples = 2\\nvalue = [0, 2]'),\n",
       " Text(251.10000000000002, 119.592, 'gini = 0.0\\nsamples = 18\\nvalue = [18, 0]'),\n",
       " Text(301.32000000000005, 184.824, 'X[7] <= 0.05\\ngini = 0.055\\nsamples = 142\\nvalue = [138, 4]'),\n",
       " Text(284.58000000000004, 163.07999999999998, 'X[5] <= 0.072\\ngini = 0.463\\nsamples = 11\\nvalue = [7, 4]'),\n",
       " Text(267.84000000000003, 141.336, 'gini = 0.0\\nsamples = 6\\nvalue = [6, 0]'),\n",
       " Text(301.32000000000005, 141.336, 'X[17] <= 0.009\\ngini = 0.32\\nsamples = 5\\nvalue = [1, 4]'),\n",
       " Text(284.58000000000004, 119.592, 'gini = 0.0\\nsamples = 1\\nvalue = [1, 0]'),\n",
       " Text(318.06000000000006, 119.592, 'gini = 0.0\\nsamples = 4\\nvalue = [0, 4]'),\n",
       " Text(318.06000000000006, 163.07999999999998, 'gini = 0.0\\nsamples = 131\\nvalue = [131, 0]')]"
      ]
     },
     "execution_count": 121,
     "metadata": {},
     "output_type": "execute_result"
    },
    {
     "data": {
      "image/png": "[encoded data removed]",
      "text/plain": [
       "<Figure size 432x288 with 1 Axes>"
      ]
     },
     "metadata": {
      "needs_background": "light"
     },
     "output_type": "display_data"
    }
   ],
   "source": [
    "from sklearn import tree\n",
    "from sklearn.tree import export_text\n",
    "clf1 = tree.DecisionTreeClassifier()\n",
    "clf1 = clf1.fit(X_train,y_train)\n",
    "tree.plot_tree(clf1)\n"
   ]
  },
  {
   "cell_type": "code",
   "execution_count": 122,
   "metadata": {},
   "outputs": [
    {
     "name": "stdout",
     "output_type": "stream",
     "text": [
      "|--- worst perimeter <= 114.45\n",
      "|   |--- worst concave points <= 0.15\n",
      "|   |   |--- worst radius <= 17.54\n",
      "|   |   |   |--- worst texture <= 33.35\n",
      "|   |   |   |   |--- worst symmetry <= 0.16\n",
      "|   |   |   |   |   |--- class: 0\n",
      "|   |   |   |   |--- worst symmetry >  0.16\n",
      "|   |   |   |   |   |--- worst radius <= 15.78\n",
      "|   |   |   |   |   |   |--- class: 1\n",
      "|   |   |   |   |   |--- worst radius >  15.78\n",
      "|   |   |   |   |   |   |--- worst texture <= 29.18\n",
      "|   |   |   |   |   |   |   |--- mean area <= 610.40\n",
      "|   |   |   |   |   |   |   |   |--- compactness error <= 0.02\n",
      "|   |   |   |   |   |   |   |   |   |--- class: 1\n",
      "|   |   |   |   |   |   |   |   |--- compactness error >  0.02\n",
      "|   |   |   |   |   |   |   |   |   |--- class: 0\n",
      "|   |   |   |   |   |   |   |--- mean area >  610.40\n",
      "|   |   |   |   |   |   |   |   |--- class: 1\n",
      "|   |   |   |   |   |   |--- worst texture >  29.18\n",
      "|   |   |   |   |   |   |   |--- mean fractal dimension <= 0.06\n",
      "|   |   |   |   |   |   |   |   |--- class: 0\n",
      "|   |   |   |   |   |   |   |--- mean fractal dimension >  0.06\n",
      "|   |   |   |   |   |   |   |   |--- class: 1\n",
      "|   |   |   |--- worst texture >  33.35\n",
      "|   |   |   |   |--- worst area <= 641.60\n",
      "|   |   |   |   |   |--- class: 1\n",
      "|   |   |   |   |--- worst area >  641.60\n",
      "|   |   |   |   |   |--- class: 0\n",
      "|   |   |--- worst radius >  17.54\n",
      "|   |   |   |--- class: 0\n",
      "|   |--- worst concave points >  0.15\n",
      "|   |   |--- worst texture <= 23.74\n",
      "|   |   |   |--- worst area <= 797.05\n",
      "|   |   |   |   |--- class: 1\n",
      "|   |   |   |--- worst area >  797.05\n",
      "|   |   |   |   |--- class: 0\n",
      "|   |   |--- worst texture >  23.74\n",
      "|   |   |   |--- mean smoothness <= 0.09\n",
      "|   |   |   |   |--- class: 1\n",
      "|   |   |   |--- mean smoothness >  0.09\n",
      "|   |   |   |   |--- class: 0\n",
      "|--- worst perimeter >  114.45\n",
      "|   |--- mean concave points <= 0.05\n",
      "|   |   |--- mean compactness <= 0.07\n",
      "|   |   |   |--- class: 0\n",
      "|   |   |--- mean compactness >  0.07\n",
      "|   |   |   |--- concave points error <= 0.01\n",
      "|   |   |   |   |--- class: 0\n",
      "|   |   |   |--- concave points error >  0.01\n",
      "|   |   |   |   |--- class: 1\n",
      "|   |--- mean concave points >  0.05\n",
      "|   |   |--- class: 0\n",
      "\n"
     ]
    }
   ],
   "source": [
    "#Export Text\n",
    "columns_breast = []\n",
    "for i in range(len(breast_cancer['feature_names'])):\n",
    "    columns_breast.append(breast_cancer['feature_names'][i])\n",
    "r1 = export_text(clf1, feature_names=columns_breast)\n",
    "print(r1)"
   ]
  },
  {
   "cell_type": "code",
   "execution_count": 123,
   "metadata": {},
   "outputs": [
    {
     "name": "stdout",
     "output_type": "stream",
     "text": [
      "Accuracy score :  0.9385964912280702\n",
      "F1 Score :  0.9387205788296625\n"
     ]
    }
   ],
   "source": [
    "#Prediction\n",
    "print(\"Accuracy score : \", sklearn.metrics.accuracy_score(y_test, clf1.predict(X_test)))\n",
    "print(\"F1 Score : \", sklearn.metrics.f1_score(y_test, clf1.predict(X_test),average='weighted'))"
   ]
  },
  {
   "cell_type": "markdown",
   "metadata": {},
   "source": [
    "Id3 Estimator"
   ]
  },
  {
   "cell_type": "code",
   "execution_count": 124,
   "metadata": {},
   "outputs": [
    {
     "name": "stdout",
     "output_type": "stream",
     "text": [
      "Requirement already satisfied: decision-tree-id3 in c:\\users\\joseg\\anaconda3\\lib\\site-packages (0.1.2)\n",
      "Requirement already satisfied: scikit-learn>=0.17 in c:\\users\\joseg\\anaconda3\\lib\\site-packages (from decision-tree-id3) (0.24.2)\n",
      "Requirement already satisfied: numpy>=1.6.1 in c:\\users\\joseg\\anaconda3\\lib\\site-packages (from decision-tree-id3) (1.20.3)\n",
      "Requirement already satisfied: nose>=1.1.2 in c:\\users\\joseg\\anaconda3\\lib\\site-packages (from decision-tree-id3) (1.3.7)\n",
      "Requirement already satisfied: scipy>=0.19.1 in c:\\users\\joseg\\anaconda3\\lib\\site-packages (from scikit-learn>=0.17->decision-tree-id3) (1.7.1)\n",
      "Requirement already satisfied: joblib>=0.11 in c:\\users\\joseg\\anaconda3\\lib\\site-packages (from scikit-learn>=0.17->decision-tree-id3) (1.1.0)\n",
      "Requirement already satisfied: threadpoolctl>=2.0.0 in c:\\users\\joseg\\anaconda3\\lib\\site-packages (from scikit-learn>=0.17->decision-tree-id3) (2.2.0)\n",
      "Note: you may need to restart the kernel to use updated packages.\n"
     ]
    }
   ],
   "source": [
    "%pip install decision-tree-id3"
   ]
  },
  {
   "cell_type": "code",
   "execution_count": 125,
   "metadata": {},
   "outputs": [
    {
     "name": "stdout",
     "output_type": "stream",
     "text": [
      "Collecting package metadata (current_repodata.json): ...working... done\n",
      "Solving environment: ...working... done\n",
      "\n",
      "# All requested packages already installed.\n",
      "\n",
      "\n",
      "Note: you may need to restart the kernel to use updated packages.\n"
     ]
    }
   ],
   "source": [
    "%conda install python-graphviz"
   ]
  },
  {
   "cell_type": "code",
   "execution_count": 126,
   "metadata": {},
   "outputs": [],
   "source": [
    "import six\n",
    "import sys\n",
    "sys.modules['sklearn.externals.six'] = six\n",
    "from sklearn.datasets import load_breast_cancer\n",
    "from id3 import Id3Estimator\n",
    "from id3 import export_graphviz\n",
    "\n",
    "bunch = load_breast_cancer()\n",
    "estimator = Id3Estimator()\n",
    "estimator = estimator.fit(X_train,y_train)\n",
    "tree = export_graphviz(estimator.tree_, 'breast-cancer.dot', bunch.feature_names)"
   ]
  },
  {
   "cell_type": "code",
   "execution_count": 127,
   "metadata": {},
   "outputs": [],
   "source": [
    "!dot -Tpdf breast-cancer.dot -o breast-cancer.pdf"
   ]
  },
  {
   "cell_type": "code",
   "execution_count": 128,
   "metadata": {},
   "outputs": [
    {
     "name": "stdout",
     "output_type": "stream",
     "text": [
      "Accuracy score :  0.9298245614035088\n",
      "F1 Score :  0.9291283764967976\n"
     ]
    }
   ],
   "source": [
    "#Prediction\n",
    "print(\"Accuracy score : \", sklearn.metrics.accuracy_score(y_test, estimator.predict(X_test)))\n",
    "print(\"F1 Score : \", sklearn.metrics.f1_score(y_test, estimator.predict(X_test),average='weighted'))"
   ]
  },
  {
   "cell_type": "markdown",
   "metadata": {},
   "source": [
    "<p>K Means</p>"
   ]
  },
  {
   "cell_type": "code",
   "execution_count": 129,
   "metadata": {},
   "outputs": [
    {
     "name": "stdout",
     "output_type": "stream",
     "text": [
      "[[1.25562991e+01 1.85703653e+01 8.11234703e+01 4.96061872e+02\n",
      "  9.48844977e-02 9.10998174e-02 6.24377642e-02 3.34325434e-02\n",
      "  1.78057991e-01 6.34540183e-02 3.04190868e-01 1.21515320e+00\n",
      "  2.15288059e+00 2.37852922e+01 7.17326256e-03 2.34746895e-02\n",
      "  2.87455128e-02 1.06363242e-02 2.06135799e-02 3.74750297e-03\n",
      "  1.40439018e+01 2.47095434e+01 9.19375114e+01 6.19647945e+02\n",
      "  1.29959110e-01 2.23311758e-01 2.19214947e-01 9.13298425e-02\n",
      "  2.83553653e-01 8.32819406e-02]\n",
      " [1.93799237e+01 2.16945802e+01 1.28231298e+02 1.18592977e+03\n",
      "  1.01294580e-01 1.48612977e-01 1.76939466e-01 1.00698779e-01\n",
      "  1.91539695e-01 6.06029008e-02 7.42803817e-01 1.22253817e+00\n",
      "  5.25058015e+00 9.56781679e+01 6.59868702e-03 3.21766947e-02\n",
      "  4.24197710e-02 1.56739847e-02 2.03039695e-02 3.95338931e-03\n",
      "  2.37094656e+01 2.89126718e+01 1.58496183e+02 1.75302290e+03\n",
      "  1.40424733e-01 3.57757710e-01 4.49306107e-01 1.92431069e-01\n",
      "  3.11881679e-01 8.61654962e-02]]\n"
     ]
    }
   ],
   "source": [
    "from sklearn.cluster import KMeans\n",
    "\n",
    "kmeans = KMeans(n_clusters=2, random_state=0).fit(df_breast_cancer)\n",
    "centroids = kmeans.cluster_centers_\n",
    "print(centroids)"
   ]
  },
  {
   "cell_type": "code",
   "execution_count": 130,
   "metadata": {},
   "outputs": [
    {
     "name": "stdout",
     "output_type": "stream",
     "text": [
      "Accuracy score :  0.16666666666666666\n",
      "F1 Score :  0.11872721072374806\n"
     ]
    }
   ],
   "source": [
    "print(\"Accuracy score : \" , sklearn.metrics.accuracy_score(y_test, kmeans.predict(X_test)))\n",
    "print(\"F1 Score : \" , sklearn.metrics.f1_score(y_test, kmeans.predict(X_test),average='weighted'))"
   ]
  },
  {
   "cell_type": "markdown",
   "metadata": {},
   "source": [
    "Logistic Regression"
   ]
  },
  {
   "cell_type": "code",
   "execution_count": 131,
   "metadata": {},
   "outputs": [
    {
     "name": "stdout",
     "output_type": "stream",
     "text": [
      "Accuracy score :  0.9210526315789473\n",
      "F1 Score :  0.9204875619736301\n"
     ]
    }
   ],
   "source": [
    "from sklearn.linear_model import LogisticRegression\n",
    "\n",
    "model = LogisticRegression(solver='lbfgs', max_iter=5000)\n",
    "model.fit(X_train, y_train)\n",
    "print(\"Accuracy score : \" , sklearn.metrics.accuracy_score(y_test, model.predict(X_test)))\n",
    "print(\"F1 Score : \" , sklearn.metrics.f1_score(y_test, model.predict(X_test),average='weighted'))"
   ]
  },
  {
   "cell_type": "markdown",
   "metadata": {},
   "source": [
    "<p>Neural Network</p>"
   ]
  },
  {
   "cell_type": "code",
   "execution_count": 132,
   "metadata": {},
   "outputs": [
    {
     "name": "stdout",
     "output_type": "stream",
     "text": [
      "Accuracy score :  0.9035087719298246\n",
      "F1 Score :  0.9022660515018331\n"
     ]
    }
   ],
   "source": [
    "from sklearn.neural_network import MLPClassifier\n",
    "clf4 = MLPClassifier(random_state=1, max_iter=300).fit(X_train, y_train)\n",
    "print(\"Accuracy score : \" , sklearn.metrics.accuracy_score(y_test, clf4.predict(X_test)))\n",
    "print(\"F1 Score : \" , sklearn.metrics.f1_score(y_test, clf4.predict(X_test),average='weighted'))"
   ]
  },
  {
   "cell_type": "markdown",
   "metadata": {},
   "source": [
    "SVM"
   ]
  },
  {
   "cell_type": "code",
   "execution_count": 133,
   "metadata": {},
   "outputs": [
    {
     "name": "stdout",
     "output_type": "stream",
     "text": [
      "Accuracy score :  0.9824561403508771\n",
      "F1 Score :  0.9823756902902523\n"
     ]
    }
   ],
   "source": [
    "from sklearn.pipeline import make_pipeline\n",
    "from sklearn.preprocessing import StandardScaler\n",
    "from sklearn.svm import SVC\n",
    "model2 = make_pipeline(StandardScaler(), SVC(gamma='auto'))\n",
    "model2.fit(X_train, y_train)\n",
    "# print(model2.predict([[-0.8, -1]]))\n",
    "print(\"Accuracy score : \" , sklearn.metrics.accuracy_score(y_test, model2.predict(X_test)))\n",
    "print(\"F1 Score : \" , sklearn.metrics.f1_score(y_test, model2.predict(X_test),average='weighted'))"
   ]
  },
  {
   "cell_type": "markdown",
   "metadata": {},
   "source": [
    "### Analysis\n",
    "<p>Dengan menggunakan dataset Breast Cancer, algoritma SVM menempati posisi terbaik dalam skor akurasi dan F1. Jika diurutkan dari yang terbaik dari segi skor akurasi dan skor F1 maka urutannya adalah SVM, Decision Tree, ID3 Estimator, , Logistic Regression, Neural Network, dan KMeans.</p>\n",
    "<br>\n",
    "<p>SVM menjadi yang terbaik mungkin dikarenakan jumlah variable dan jumlah training data yang besar</p>\n",
    "<p>Decision Tree, ID3 Estimator, Logistic Regression menempati posisi terbaik setelahnya mungkin dikarenakan dataset yang besar dan output yang hanya merupakan Binary (True or False).</p>\n",
    "<p>Neural Network menempati posisi berikutnya. Neural Network tidak terlalu buruk dikarenakan dataset yang besar untuk training.</p>\n",
    "<p>KMeans tidak cocok digunakan dalam dataset ini mungkin dikarenakan dataset yang sangat besar dan dimensi data yang terlalu besar</p>"
   ]
  }
 ],
 "metadata": {
  "interpreter": {
   "hash": "9c0be557704733567a7c5ca28a0f122c28c34ba6b7fc5b075adcbb642e468030"
  },
  "kernelspec": {
   "display_name": "Python 3.9.7 ('base')",
   "language": "python",
   "name": "python3"
  },
  "language_info": {
   "codemirror_mode": {
    "name": "ipython",
    "version": 3
   },
   "file_extension": ".py",
   "mimetype": "text/x-python",
   "name": "python",
   "nbconvert_exporter": "python",
   "pygments_lexer": "ipython3",
   "version": "3.9.7"
  },
  "orig_nbformat": 4
 },
 "nbformat": 4,
 "nbformat_minor": 2
}

{
 "cells": [
  {
   "cell_type": "markdown",
   "metadata": {},
   "source": [
    "# Tugas Kecil\n",
    "## Eksplorasi library Decision Tree Learning pada Jupyter Notebook\n",
    "### Breast Cancer\n",
    "<p>Anggota : <br>\n",
    " Jose Galbraith Hasintongan (13519022) <br>\n",
    " Muhammad Fahkry Malta (13519032) </p>"
   ]
  },
  {
   "cell_type": "markdown",
   "metadata": {},
   "source": [
    "<p>Import libraries yang diperlukan</p>"
   ]
  },
  {
   "cell_type": "code",
   "execution_count": 2,
   "metadata": {},
   "outputs": [],
   "source": [
    "import pandas as pd\n",
    "import sklearn\n",
    "import sklearn.model_selection\n",
    "import sklearn.datasets\n",
    "import sklearn.metrics"
   ]
  },
  {
   "cell_type": "markdown",
   "metadata": {},
   "source": [
    "<p>Import Breast Cancer dataset</p>"
   ]
  },
  {
   "cell_type": "code",
   "execution_count": 3,
   "metadata": {},
   "outputs": [],
   "source": [
    "breast_cancer = sklearn.datasets.load_breast_cancer()"
   ]
  },
  {
   "cell_type": "markdown",
   "metadata": {},
   "source": [
    "<p>Buat dataframe untuk dataset</p>"
   ]
  },
  {
   "cell_type": "code",
   "execution_count": 4,
   "metadata": {},
   "outputs": [],
   "source": [
    "df_breast_cancer = pd.DataFrame(breast_cancer.data, columns=breast_cancer.feature_names)\n"
   ]
  },
  {
   "cell_type": "code",
   "execution_count": 5,
   "metadata": {},
   "outputs": [
    {
     "data": {
      "text/plain": [
       "array(['mean radius', 'mean texture', 'mean perimeter', 'mean area',\n",
       "       'mean smoothness', 'mean compactness', 'mean concavity',\n",
       "       'mean concave points', 'mean symmetry', 'mean fractal dimension',\n",
       "       'radius error', 'texture error', 'perimeter error', 'area error',\n",
       "       'smoothness error', 'compactness error', 'concavity error',\n",
       "       'concave points error', 'symmetry error',\n",
       "       'fractal dimension error', 'worst radius', 'worst texture',\n",
       "       'worst perimeter', 'worst area', 'worst smoothness',\n",
       "       'worst compactness', 'worst concavity', 'worst concave points',\n",
       "       'worst symmetry', 'worst fractal dimension'], dtype='<U23')"
      ]
     },
     "execution_count": 5,
     "metadata": {},
     "output_type": "execute_result"
    }
   ],
   "source": [
    "breast_cancer.feature_names"
   ]
  },
  {
   "cell_type": "code",
   "execution_count": 6,
   "metadata": {},
   "outputs": [
    {
     "data": {
      "text/plain": [
       "array([0, 0, 0, 0, 0, 0, 0, 0, 0, 0, 0, 0, 0, 0, 0, 0, 0, 0, 0, 1, 1, 1,\n",
       "       0, 0, 0, 0, 0, 0, 0, 0, 0, 0, 0, 0, 0, 0, 0, 1, 0, 0, 0, 0, 0, 0,\n",
       "       0, 0, 1, 0, 1, 1, 1, 1, 1, 0, 0, 1, 0, 0, 1, 1, 1, 1, 0, 1, 0, 0,\n",
       "       1, 1, 1, 1, 0, 1, 0, 0, 1, 0, 1, 0, 0, 1, 1, 1, 0, 0, 1, 0, 0, 0,\n",
       "       1, 1, 1, 0, 1, 1, 0, 0, 1, 1, 1, 0, 0, 1, 1, 1, 1, 0, 1, 1, 0, 1,\n",
       "       1, 1, 1, 1, 1, 1, 1, 0, 0, 0, 1, 0, 0, 1, 1, 1, 0, 0, 1, 0, 1, 0,\n",
       "       0, 1, 0, 0, 1, 1, 0, 1, 1, 0, 1, 1, 1, 1, 0, 1, 1, 1, 1, 1, 1, 1,\n",
       "       1, 1, 0, 1, 1, 1, 1, 0, 0, 1, 0, 1, 1, 0, 0, 1, 1, 0, 0, 1, 1, 1,\n",
       "       1, 0, 1, 1, 0, 0, 0, 1, 0, 1, 0, 1, 1, 1, 0, 1, 1, 0, 0, 1, 0, 0,\n",
       "       0, 0, 1, 0, 0, 0, 1, 0, 1, 0, 1, 1, 0, 1, 0, 0, 0, 0, 1, 1, 0, 0,\n",
       "       1, 1, 1, 0, 1, 1, 1, 1, 1, 0, 0, 1, 1, 0, 1, 1, 0, 0, 1, 0, 1, 1,\n",
       "       1, 1, 0, 1, 1, 1, 1, 1, 0, 1, 0, 0, 0, 0, 0, 0, 0, 0, 0, 0, 0, 0,\n",
       "       0, 0, 1, 1, 1, 1, 1, 1, 0, 1, 0, 1, 1, 0, 1, 1, 0, 1, 0, 0, 1, 1,\n",
       "       1, 1, 1, 1, 1, 1, 1, 1, 1, 1, 1, 0, 1, 1, 0, 1, 0, 1, 1, 1, 1, 1,\n",
       "       1, 1, 1, 1, 1, 1, 1, 1, 1, 0, 1, 1, 1, 0, 1, 0, 1, 1, 1, 1, 0, 0,\n",
       "       0, 1, 1, 1, 1, 0, 1, 0, 1, 0, 1, 1, 1, 0, 1, 1, 1, 1, 1, 1, 1, 0,\n",
       "       0, 0, 1, 1, 1, 1, 1, 1, 1, 1, 1, 1, 1, 0, 0, 1, 0, 0, 0, 1, 0, 0,\n",
       "       1, 1, 1, 1, 1, 0, 1, 1, 1, 1, 1, 0, 1, 1, 1, 0, 1, 1, 0, 0, 1, 1,\n",
       "       1, 1, 1, 1, 0, 1, 1, 1, 1, 1, 1, 1, 0, 1, 1, 1, 1, 1, 0, 1, 1, 0,\n",
       "       1, 1, 1, 1, 1, 1, 1, 1, 1, 1, 1, 1, 0, 1, 0, 0, 1, 0, 1, 1, 1, 1,\n",
       "       1, 0, 1, 1, 0, 1, 0, 1, 1, 0, 1, 0, 1, 1, 1, 1, 1, 1, 1, 1, 0, 0,\n",
       "       1, 1, 1, 1, 1, 1, 0, 1, 1, 1, 1, 1, 1, 1, 1, 1, 1, 0, 1, 1, 1, 1,\n",
       "       1, 1, 1, 0, 1, 0, 1, 1, 0, 1, 1, 1, 1, 1, 0, 0, 1, 0, 1, 0, 1, 1,\n",
       "       1, 1, 1, 0, 1, 1, 0, 1, 0, 1, 0, 0, 1, 1, 1, 0, 1, 1, 1, 1, 1, 1,\n",
       "       1, 1, 1, 1, 1, 0, 1, 0, 0, 1, 1, 1, 1, 1, 1, 1, 1, 1, 1, 1, 1, 1,\n",
       "       1, 1, 1, 1, 1, 1, 1, 1, 1, 1, 1, 1, 0, 0, 0, 0, 0, 0, 1])"
      ]
     },
     "execution_count": 6,
     "metadata": {},
     "output_type": "execute_result"
    }
   ],
   "source": [
    "breast_cancer.target"
   ]
  },
  {
   "cell_type": "code",
   "execution_count": 7,
   "metadata": {},
   "outputs": [
    {
     "data": {
      "text/html": [
       "<div>\n",
       "<style scoped>\n",
       "    .dataframe tbody tr th:only-of-type {\n",
       "        vertical-align: middle;\n",
       "    }\n",
       "\n",
       "    .dataframe tbody tr th {\n",
       "        vertical-align: top;\n",
       "    }\n",
       "\n",
       "    .dataframe thead th {\n",
       "        text-align: right;\n",
       "    }\n",
       "</style>\n",
       "<table border=\"1\" class=\"dataframe\">\n",
       "  <thead>\n",
       "    <tr style=\"text-align: right;\">\n",
       "      <th></th>\n",
       "      <th>mean radius</th>\n",
       "      <th>mean texture</th>\n",
       "      <th>mean perimeter</th>\n",
       "      <th>mean area</th>\n",
       "      <th>mean smoothness</th>\n",
       "      <th>mean compactness</th>\n",
       "      <th>mean concavity</th>\n",
       "      <th>mean concave points</th>\n",
       "      <th>mean symmetry</th>\n",
       "      <th>mean fractal dimension</th>\n",
       "      <th>...</th>\n",
       "      <th>worst radius</th>\n",
       "      <th>worst texture</th>\n",
       "      <th>worst perimeter</th>\n",
       "      <th>worst area</th>\n",
       "      <th>worst smoothness</th>\n",
       "      <th>worst compactness</th>\n",
       "      <th>worst concavity</th>\n",
       "      <th>worst concave points</th>\n",
       "      <th>worst symmetry</th>\n",
       "      <th>worst fractal dimension</th>\n",
       "    </tr>\n",
       "  </thead>\n",
       "  <tbody>\n",
       "    <tr>\n",
       "      <th>0</th>\n",
       "      <td>17.99</td>\n",
       "      <td>10.38</td>\n",
       "      <td>122.80</td>\n",
       "      <td>1001.0</td>\n",
       "      <td>0.11840</td>\n",
       "      <td>0.27760</td>\n",
       "      <td>0.3001</td>\n",
       "      <td>0.14710</td>\n",
       "      <td>0.2419</td>\n",
       "      <td>0.07871</td>\n",
       "      <td>...</td>\n",
       "      <td>25.38</td>\n",
       "      <td>17.33</td>\n",
       "      <td>184.60</td>\n",
       "      <td>2019.0</td>\n",
       "      <td>0.1622</td>\n",
       "      <td>0.6656</td>\n",
       "      <td>0.7119</td>\n",
       "      <td>0.2654</td>\n",
       "      <td>0.4601</td>\n",
       "      <td>0.11890</td>\n",
       "    </tr>\n",
       "    <tr>\n",
       "      <th>1</th>\n",
       "      <td>20.57</td>\n",
       "      <td>17.77</td>\n",
       "      <td>132.90</td>\n",
       "      <td>1326.0</td>\n",
       "      <td>0.08474</td>\n",
       "      <td>0.07864</td>\n",
       "      <td>0.0869</td>\n",
       "      <td>0.07017</td>\n",
       "      <td>0.1812</td>\n",
       "      <td>0.05667</td>\n",
       "      <td>...</td>\n",
       "      <td>24.99</td>\n",
       "      <td>23.41</td>\n",
       "      <td>158.80</td>\n",
       "      <td>1956.0</td>\n",
       "      <td>0.1238</td>\n",
       "      <td>0.1866</td>\n",
       "      <td>0.2416</td>\n",
       "      <td>0.1860</td>\n",
       "      <td>0.2750</td>\n",
       "      <td>0.08902</td>\n",
       "    </tr>\n",
       "    <tr>\n",
       "      <th>2</th>\n",
       "      <td>19.69</td>\n",
       "      <td>21.25</td>\n",
       "      <td>130.00</td>\n",
       "      <td>1203.0</td>\n",
       "      <td>0.10960</td>\n",
       "      <td>0.15990</td>\n",
       "      <td>0.1974</td>\n",
       "      <td>0.12790</td>\n",
       "      <td>0.2069</td>\n",
       "      <td>0.05999</td>\n",
       "      <td>...</td>\n",
       "      <td>23.57</td>\n",
       "      <td>25.53</td>\n",
       "      <td>152.50</td>\n",
       "      <td>1709.0</td>\n",
       "      <td>0.1444</td>\n",
       "      <td>0.4245</td>\n",
       "      <td>0.4504</td>\n",
       "      <td>0.2430</td>\n",
       "      <td>0.3613</td>\n",
       "      <td>0.08758</td>\n",
       "    </tr>\n",
       "    <tr>\n",
       "      <th>3</th>\n",
       "      <td>11.42</td>\n",
       "      <td>20.38</td>\n",
       "      <td>77.58</td>\n",
       "      <td>386.1</td>\n",
       "      <td>0.14250</td>\n",
       "      <td>0.28390</td>\n",
       "      <td>0.2414</td>\n",
       "      <td>0.10520</td>\n",
       "      <td>0.2597</td>\n",
       "      <td>0.09744</td>\n",
       "      <td>...</td>\n",
       "      <td>14.91</td>\n",
       "      <td>26.50</td>\n",
       "      <td>98.87</td>\n",
       "      <td>567.7</td>\n",
       "      <td>0.2098</td>\n",
       "      <td>0.8663</td>\n",
       "      <td>0.6869</td>\n",
       "      <td>0.2575</td>\n",
       "      <td>0.6638</td>\n",
       "      <td>0.17300</td>\n",
       "    </tr>\n",
       "    <tr>\n",
       "      <th>4</th>\n",
       "      <td>20.29</td>\n",
       "      <td>14.34</td>\n",
       "      <td>135.10</td>\n",
       "      <td>1297.0</td>\n",
       "      <td>0.10030</td>\n",
       "      <td>0.13280</td>\n",
       "      <td>0.1980</td>\n",
       "      <td>0.10430</td>\n",
       "      <td>0.1809</td>\n",
       "      <td>0.05883</td>\n",
       "      <td>...</td>\n",
       "      <td>22.54</td>\n",
       "      <td>16.67</td>\n",
       "      <td>152.20</td>\n",
       "      <td>1575.0</td>\n",
       "      <td>0.1374</td>\n",
       "      <td>0.2050</td>\n",
       "      <td>0.4000</td>\n",
       "      <td>0.1625</td>\n",
       "      <td>0.2364</td>\n",
       "      <td>0.07678</td>\n",
       "    </tr>\n",
       "  </tbody>\n",
       "</table>\n",
       "<p>5 rows × 30 columns</p>\n",
       "</div>"
      ],
      "text/plain": [
       "   mean radius  mean texture  mean perimeter  mean area  mean smoothness  \\\n",
       "0        17.99         10.38          122.80     1001.0          0.11840   \n",
       "1        20.57         17.77          132.90     1326.0          0.08474   \n",
       "2        19.69         21.25          130.00     1203.0          0.10960   \n",
       "3        11.42         20.38           77.58      386.1          0.14250   \n",
       "4        20.29         14.34          135.10     1297.0          0.10030   \n",
       "\n",
       "   mean compactness  mean concavity  mean concave points  mean symmetry  \\\n",
       "0           0.27760          0.3001              0.14710         0.2419   \n",
       "1           0.07864          0.0869              0.07017         0.1812   \n",
       "2           0.15990          0.1974              0.12790         0.2069   \n",
       "3           0.28390          0.2414              0.10520         0.2597   \n",
       "4           0.13280          0.1980              0.10430         0.1809   \n",
       "\n",
       "   mean fractal dimension  ...  worst radius  worst texture  worst perimeter  \\\n",
       "0                 0.07871  ...         25.38          17.33           184.60   \n",
       "1                 0.05667  ...         24.99          23.41           158.80   \n",
       "2                 0.05999  ...         23.57          25.53           152.50   \n",
       "3                 0.09744  ...         14.91          26.50            98.87   \n",
       "4                 0.05883  ...         22.54          16.67           152.20   \n",
       "\n",
       "   worst area  worst smoothness  worst compactness  worst concavity  \\\n",
       "0      2019.0            0.1622             0.6656           0.7119   \n",
       "1      1956.0            0.1238             0.1866           0.2416   \n",
       "2      1709.0            0.1444             0.4245           0.4504   \n",
       "3       567.7            0.2098             0.8663           0.6869   \n",
       "4      1575.0            0.1374             0.2050           0.4000   \n",
       "\n",
       "   worst concave points  worst symmetry  worst fractal dimension  \n",
       "0                0.2654          0.4601                  0.11890  \n",
       "1                0.1860          0.2750                  0.08902  \n",
       "2                0.2430          0.3613                  0.08758  \n",
       "3                0.2575          0.6638                  0.17300  \n",
       "4                0.1625          0.2364                  0.07678  \n",
       "\n",
       "[5 rows x 30 columns]"
      ]
     },
     "execution_count": 7,
     "metadata": {},
     "output_type": "execute_result"
    }
   ],
   "source": [
    "df_breast_cancer.head()"
   ]
  },
  {
   "cell_type": "markdown",
   "metadata": {},
   "source": [
    "<p>Split Data</p>"
   ]
  },
  {
   "cell_type": "code",
   "execution_count": 8,
   "metadata": {},
   "outputs": [],
   "source": [
    "X,y = sklearn.datasets.load_breast_cancer(return_X_y=True)\n",
    "X_train, X_test, y_train, y_test = sklearn.model_selection.train_test_split(X, y, test_size=0.2)"
   ]
  },
  {
   "cell_type": "markdown",
   "metadata": {},
   "source": [
    "<p>Decision Tree</p>"
   ]
  },
  {
   "cell_type": "code",
   "execution_count": 9,
   "metadata": {},
   "outputs": [
    {
     "data": {
      "text/plain": [
       "[Text(199.10454545454547, 201.90857142857143, 'X[20] <= 16.805\\ngini = 0.465\\nsamples = 455\\nvalue = [167, 288]'),\n",
       " Text(129.35454545454547, 170.84571428571428, 'X[27] <= 0.136\\ngini = 0.156\\nsamples = 304\\nvalue = [26, 278]'),\n",
       " Text(76.0909090909091, 139.78285714285715, 'X[13] <= 38.35\\ngini = 0.03\\nsamples = 266\\nvalue = [4, 262]'),\n",
       " Text(40.581818181818186, 108.72, 'X[14] <= 0.003\\ngini = 0.016\\nsamples = 255\\nvalue = [2, 253]'),\n",
       " Text(20.290909090909093, 77.65714285714284, 'X[20] <= 15.635\\ngini = 0.32\\nsamples = 5\\nvalue = [1, 4]'),\n",
       " Text(10.145454545454546, 46.59428571428572, 'gini = 0.0\\nsamples = 4\\nvalue = [0, 4]'),\n",
       " Text(30.436363636363637, 46.59428571428572, 'gini = 0.0\\nsamples = 1\\nvalue = [1, 0]'),\n",
       " Text(60.872727272727275, 77.65714285714284, 'X[21] <= 33.27\\ngini = 0.008\\nsamples = 250\\nvalue = [1, 249]'),\n",
       " Text(50.727272727272734, 46.59428571428572, 'gini = 0.0\\nsamples = 233\\nvalue = [0, 233]'),\n",
       " Text(71.01818181818183, 46.59428571428572, 'X[21] <= 33.56\\ngini = 0.111\\nsamples = 17\\nvalue = [1, 16]'),\n",
       " Text(60.872727272727275, 15.531428571428563, 'gini = 0.0\\nsamples = 1\\nvalue = [1, 0]'),\n",
       " Text(81.16363636363637, 15.531428571428563, 'gini = 0.0\\nsamples = 16\\nvalue = [0, 16]'),\n",
       " Text(111.60000000000001, 108.72, 'X[19] <= 0.004\\ngini = 0.298\\nsamples = 11\\nvalue = [2, 9]'),\n",
       " Text(101.45454545454547, 77.65714285714284, 'X[17] <= 0.014\\ngini = 0.444\\nsamples = 3\\nvalue = [2, 1]'),\n",
       " Text(91.30909090909091, 46.59428571428572, 'gini = 0.0\\nsamples = 1\\nvalue = [0, 1]'),\n",
       " Text(111.60000000000001, 46.59428571428572, 'gini = 0.0\\nsamples = 2\\nvalue = [2, 0]'),\n",
       " Text(121.74545454545455, 77.65714285714284, 'gini = 0.0\\nsamples = 8\\nvalue = [0, 8]'),\n",
       " Text(182.61818181818182, 139.78285714285715, 'X[21] <= 25.67\\ngini = 0.488\\nsamples = 38\\nvalue = [22, 16]'),\n",
       " Text(152.1818181818182, 108.72, 'X[23] <= 810.3\\ngini = 0.219\\nsamples = 16\\nvalue = [2, 14]'),\n",
       " Text(142.03636363636366, 77.65714285714284, 'gini = 0.0\\nsamples = 13\\nvalue = [0, 13]'),\n",
       " Text(162.32727272727274, 77.65714285714284, 'X[23] <= 844.05\\ngini = 0.444\\nsamples = 3\\nvalue = [2, 1]'),\n",
       " Text(152.1818181818182, 46.59428571428572, 'gini = 0.0\\nsamples = 2\\nvalue = [2, 0]'),\n",
       " Text(172.4727272727273, 46.59428571428572, 'gini = 0.0\\nsamples = 1\\nvalue = [0, 1]'),\n",
       " Text(213.05454545454546, 108.72, 'X[4] <= 0.091\\ngini = 0.165\\nsamples = 22\\nvalue = [20, 2]'),\n",
       " Text(202.90909090909093, 77.65714285714284, 'X[1] <= 21.195\\ngini = 0.444\\nsamples = 3\\nvalue = [1, 2]'),\n",
       " Text(192.76363636363638, 46.59428571428572, 'gini = 0.0\\nsamples = 2\\nvalue = [0, 2]'),\n",
       " Text(213.05454545454546, 46.59428571428572, 'gini = 0.0\\nsamples = 1\\nvalue = [1, 0]'),\n",
       " Text(223.20000000000002, 77.65714285714284, 'gini = 0.0\\nsamples = 19\\nvalue = [19, 0]'),\n",
       " Text(268.8545454545455, 170.84571428571428, 'X[11] <= 0.492\\ngini = 0.124\\nsamples = 151\\nvalue = [141, 10]'),\n",
       " Text(243.4909090909091, 139.78285714285715, 'X[23] <= 961.1\\ngini = 0.375\\nsamples = 8\\nvalue = [2, 6]'),\n",
       " Text(233.34545454545457, 108.72, 'gini = 0.0\\nsamples = 6\\nvalue = [0, 6]'),\n",
       " Text(253.63636363636365, 108.72, 'gini = 0.0\\nsamples = 2\\nvalue = [2, 0]'),\n",
       " Text(294.21818181818185, 139.78285714285715, 'X[26] <= 0.191\\ngini = 0.054\\nsamples = 143\\nvalue = [139, 4]'),\n",
       " Text(273.92727272727274, 108.72, 'X[6] <= 0.039\\ngini = 0.48\\nsamples = 5\\nvalue = [2, 3]'),\n",
       " Text(263.7818181818182, 77.65714285714284, 'gini = 0.0\\nsamples = 2\\nvalue = [2, 0]'),\n",
       " Text(284.0727272727273, 77.65714285714284, 'gini = 0.0\\nsamples = 3\\nvalue = [0, 3]'),\n",
       " Text(314.50909090909096, 108.72, 'X[1] <= 14.955\\ngini = 0.014\\nsamples = 138\\nvalue = [137, 1]'),\n",
       " Text(304.3636363636364, 77.65714285714284, 'X[17] <= 0.012\\ngini = 0.375\\nsamples = 4\\nvalue = [3, 1]'),\n",
       " Text(294.21818181818185, 46.59428571428572, 'gini = 0.0\\nsamples = 1\\nvalue = [0, 1]'),\n",
       " Text(314.50909090909096, 46.59428571428572, 'gini = 0.0\\nsamples = 3\\nvalue = [3, 0]'),\n",
       " Text(324.6545454545455, 77.65714285714284, 'gini = 0.0\\nsamples = 134\\nvalue = [134, 0]')]"
      ]
     },
     "execution_count": 9,
     "metadata": {},
     "output_type": "execute_result"
    },
    {
     "data": {
      "image/png": "[encoded data removed]",
      "text/plain": [
       "<Figure size 432x288 with 1 Axes>"
      ]
     },
     "metadata": {
      "needs_background": "light"
     },
     "output_type": "display_data"
    }
   ],
   "source": [
    "from sklearn import tree\n",
    "from sklearn.tree import export_text\n",
    "clf1 = tree.DecisionTreeClassifier()\n",
    "clf1 = clf1.fit(X_train,y_train)\n",
    "tree.plot_tree(clf1)\n"
   ]
  },
  {
   "cell_type": "code",
   "execution_count": 10,
   "metadata": {},
   "outputs": [
    {
     "name": "stdout",
     "output_type": "stream",
     "text": [
      "|--- worst radius <= 16.81\n",
      "|   |--- worst concave points <= 0.14\n",
      "|   |   |--- area error <= 38.35\n",
      "|   |   |   |--- smoothness error <= 0.00\n",
      "|   |   |   |   |--- worst radius <= 15.64\n",
      "|   |   |   |   |   |--- class: 1\n",
      "|   |   |   |   |--- worst radius >  15.64\n",
      "|   |   |   |   |   |--- class: 0\n",
      "|   |   |   |--- smoothness error >  0.00\n",
      "|   |   |   |   |--- worst texture <= 33.27\n",
      "|   |   |   |   |   |--- class: 1\n",
      "|   |   |   |   |--- worst texture >  33.27\n",
      "|   |   |   |   |   |--- worst texture <= 33.56\n",
      "|   |   |   |   |   |   |--- class: 0\n",
      "|   |   |   |   |   |--- worst texture >  33.56\n",
      "|   |   |   |   |   |   |--- class: 1\n",
      "|   |   |--- area error >  38.35\n",
      "|   |   |   |--- fractal dimension error <= 0.00\n",
      "|   |   |   |   |--- concave points error <= 0.01\n",
      "|   |   |   |   |   |--- class: 1\n",
      "|   |   |   |   |--- concave points error >  0.01\n",
      "|   |   |   |   |   |--- class: 0\n",
      "|   |   |   |--- fractal dimension error >  0.00\n",
      "|   |   |   |   |--- class: 1\n",
      "|   |--- worst concave points >  0.14\n",
      "|   |   |--- worst texture <= 25.67\n",
      "|   |   |   |--- worst area <= 810.30\n",
      "|   |   |   |   |--- class: 1\n",
      "|   |   |   |--- worst area >  810.30\n",
      "|   |   |   |   |--- worst area <= 844.05\n",
      "|   |   |   |   |   |--- class: 0\n",
      "|   |   |   |   |--- worst area >  844.05\n",
      "|   |   |   |   |   |--- class: 1\n",
      "|   |   |--- worst texture >  25.67\n",
      "|   |   |   |--- mean smoothness <= 0.09\n",
      "|   |   |   |   |--- mean texture <= 21.20\n",
      "|   |   |   |   |   |--- class: 1\n",
      "|   |   |   |   |--- mean texture >  21.20\n",
      "|   |   |   |   |   |--- class: 0\n",
      "|   |   |   |--- mean smoothness >  0.09\n",
      "|   |   |   |   |--- class: 0\n",
      "|--- worst radius >  16.81\n",
      "|   |--- texture error <= 0.49\n",
      "|   |   |--- worst area <= 961.10\n",
      "|   |   |   |--- class: 1\n",
      "|   |   |--- worst area >  961.10\n",
      "|   |   |   |--- class: 0\n",
      "|   |--- texture error >  0.49\n",
      "|   |   |--- worst concavity <= 0.19\n",
      "|   |   |   |--- mean concavity <= 0.04\n",
      "|   |   |   |   |--- class: 0\n",
      "|   |   |   |--- mean concavity >  0.04\n",
      "|   |   |   |   |--- class: 1\n",
      "|   |   |--- worst concavity >  0.19\n",
      "|   |   |   |--- mean texture <= 14.95\n",
      "|   |   |   |   |--- concave points error <= 0.01\n",
      "|   |   |   |   |   |--- class: 1\n",
      "|   |   |   |   |--- concave points error >  0.01\n",
      "|   |   |   |   |   |--- class: 0\n",
      "|   |   |   |--- mean texture >  14.95\n",
      "|   |   |   |   |--- class: 0\n",
      "\n"
     ]
    }
   ],
   "source": [
    "#Export Text\n",
    "columns_breast = []\n",
    "for i in range(len(breast_cancer['feature_names'])):\n",
    "    columns_breast.append(breast_cancer['feature_names'][i])\n",
    "r1 = export_text(clf1, feature_names=columns_breast)\n",
    "print(r1)"
   ]
  },
  {
   "cell_type": "code",
   "execution_count": 11,
   "metadata": {},
   "outputs": [
    {
     "name": "stdout",
     "output_type": "stream",
     "text": [
      "Accuracy score :  0.956140350877193\n",
      "F1 Score :  0.9562212662481583\n"
     ]
    }
   ],
   "source": [
    "#Prediction\n",
    "print(\"Accuracy score : \", sklearn.metrics.accuracy_score(y_test, clf1.predict(X_test)))\n",
    "print(\"F1 Score : \", sklearn.metrics.f1_score(y_test, clf1.predict(X_test),average='weighted'))"
   ]
  },
  {
   "cell_type": "markdown",
   "metadata": {},
   "source": [
    "<p>K Means</p>"
   ]
  },
  {
   "cell_type": "code",
   "execution_count": 12,
   "metadata": {},
   "outputs": [
    {
     "name": "stdout",
     "output_type": "stream",
     "text": [
      "[[1.25562991e+01 1.85703653e+01 8.11234703e+01 4.96061872e+02\n",
      "  9.48844977e-02 9.10998174e-02 6.24377642e-02 3.34325434e-02\n",
      "  1.78057991e-01 6.34540183e-02 3.04190868e-01 1.21515320e+00\n",
      "  2.15288059e+00 2.37852922e+01 7.17326256e-03 2.34746895e-02\n",
      "  2.87455128e-02 1.06363242e-02 2.06135799e-02 3.74750297e-03\n",
      "  1.40439018e+01 2.47095434e+01 9.19375114e+01 6.19647945e+02\n",
      "  1.29959110e-01 2.23311758e-01 2.19214947e-01 9.13298425e-02\n",
      "  2.83553653e-01 8.32819406e-02]\n",
      " [1.93799237e+01 2.16945802e+01 1.28231298e+02 1.18592977e+03\n",
      "  1.01294580e-01 1.48612977e-01 1.76939466e-01 1.00698779e-01\n",
      "  1.91539695e-01 6.06029008e-02 7.42803817e-01 1.22253817e+00\n",
      "  5.25058015e+00 9.56781679e+01 6.59868702e-03 3.21766947e-02\n",
      "  4.24197710e-02 1.56739847e-02 2.03039695e-02 3.95338931e-03\n",
      "  2.37094656e+01 2.89126718e+01 1.58496183e+02 1.75302290e+03\n",
      "  1.40424733e-01 3.57757710e-01 4.49306107e-01 1.92431069e-01\n",
      "  3.11881679e-01 8.61654962e-02]]\n"
     ]
    }
   ],
   "source": [
    "from sklearn.cluster import KMeans\n",
    "\n",
    "kmeans = KMeans(n_clusters=2, random_state=0).fit(df_breast_cancer)\n",
    "centroids = kmeans.cluster_centers_\n",
    "print(centroids)"
   ]
  },
  {
   "cell_type": "code",
   "execution_count": 13,
   "metadata": {},
   "outputs": [
    {
     "name": "stdout",
     "output_type": "stream",
     "text": [
      "Accuracy score :  0.15789473684210525\n",
      "F1 Score :  0.10765550239234449\n"
     ]
    }
   ],
   "source": [
    "print(\"Accuracy score : \" , sklearn.metrics.accuracy_score(y_test, kmeans.predict(X_test)))\n",
    "print(\"F1 Score : \" , sklearn.metrics.f1_score(y_test, kmeans.predict(X_test),average='weighted'))"
   ]
  },
  {
   "cell_type": "markdown",
   "metadata": {},
   "source": [
    "<p>Neural Network</p>"
   ]
  },
  {
   "cell_type": "code",
   "execution_count": 14,
   "metadata": {},
   "outputs": [
    {
     "name": "stdout",
     "output_type": "stream",
     "text": [
      "Accuracy score :  0.956140350877193\n",
      "F1 Score :  0.9558507420421927\n"
     ]
    }
   ],
   "source": [
    "from sklearn.neural_network import MLPClassifier\n",
    "clf4 = MLPClassifier(random_state=1, max_iter=300).fit(X_train, y_train)\n",
    "print(\"Accuracy score : \" , sklearn.metrics.accuracy_score(y_test, clf4.predict(X_test)))\n",
    "print(\"F1 Score : \" , sklearn.metrics.f1_score(y_test, clf4.predict(X_test),average='weighted'))"
   ]
  },
  {
   "cell_type": "code",
   "execution_count": null,
   "metadata": {},
   "outputs": [],
   "source": []
  }
 ],
 "metadata": {
  "interpreter": {
   "hash": "9c0be557704733567a7c5ca28a0f122c28c34ba6b7fc5b075adcbb642e468030"
  },
  "kernelspec": {
   "display_name": "Python 3.9.7 ('base')",
   "language": "python",
   "name": "python3"
  },
  "language_info": {
   "codemirror_mode": {
    "name": "ipython",
    "version": 3
   },
   "file_extension": ".py",
   "mimetype": "text/x-python",
   "name": "python",
   "nbconvert_exporter": "python",
   "pygments_lexer": "ipython3",
   "version": "3.9.7"
  },
  "orig_nbformat": 4
 },
 "nbformat": 4,
 "nbformat_minor": 2
}
